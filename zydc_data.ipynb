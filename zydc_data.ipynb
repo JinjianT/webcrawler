{
 "cells": [
  {
   "cell_type": "code",
   "execution_count": 1,
   "metadata": {},
   "outputs": [],
   "source": [
    "from requests_html import HTMLSession\n",
    "import json\n"
   ]
  },
  {
   "cell_type": "code",
   "execution_count": 2,
   "metadata": {},
   "outputs": [],
   "source": [
    "with open(\"urls1.txt\", \"r\") as f:\n",
    "    string = f.read()\n",
    "    # stringList = string.split(\"https\")\n",
    "    # stringList.pop(0)\n",
    "    # stringFnl = list(map(lambda x: \"https\"+x, stringList))\n"
   ]
  },
  {
   "cell_type": "code",
   "execution_count": 3,
   "metadata": {},
   "outputs": [
    {
     "data": {
      "text/plain": [
       "20072"
      ]
     },
     "execution_count": 3,
     "metadata": {},
     "output_type": "execute_result"
    }
   ],
   "source": [
    "stringFnl = string.split('\\n')\n",
    "stringFnl.pop()\n",
    "len(stringFnl)\n"
   ]
  },
  {
   "cell_type": "code",
   "execution_count": 4,
   "metadata": {},
   "outputs": [
    {
     "data": {
      "text/plain": [
       "937"
      ]
     },
     "execution_count": 4,
     "metadata": {},
     "output_type": "execute_result"
    }
   ],
   "source": [
    "stringFnl.index('https://hk.centanet.com/findproperty/zh-cn/transaction-detail/-%E7%A4%BC%E9%A1%BF%E5%B1%B1_V.R202201S0198')"
   ]
  },
  {
   "cell_type": "code",
   "execution_count": 5,
   "metadata": {},
   "outputs": [],
   "source": [
    "import pandas as pd\n",
    "df = pd.read_csv('data1.csv')"
   ]
  },
  {
   "cell_type": "code",
   "execution_count": 6,
   "metadata": {},
   "outputs": [
    {
     "data": {
      "text/html": [
       "<div>\n",
       "<style scoped>\n",
       "    .dataframe tbody tr th:only-of-type {\n",
       "        vertical-align: middle;\n",
       "    }\n",
       "\n",
       "    .dataframe tbody tr th {\n",
       "        vertical-align: top;\n",
       "    }\n",
       "\n",
       "    .dataframe thead th {\n",
       "        text-align: right;\n",
       "    }\n",
       "</style>\n",
       "<table border=\"1\" class=\"dataframe\">\n",
       "  <thead>\n",
       "    <tr style=\"text-align: right;\">\n",
       "      <th></th>\n",
       "      <th>Unnamed: 0</th>\n",
       "      <th>rooms</th>\n",
       "      <th>age</th>\n",
       "      <th>direction</th>\n",
       "      <th>priceNum</th>\n",
       "      <th>priceLbl</th>\n",
       "      <th>area</th>\n",
       "      <th>location</th>\n",
       "      <th>gfa</th>\n",
       "      <th>cfa</th>\n",
       "    </tr>\n",
       "  </thead>\n",
       "  <tbody>\n",
       "    <tr>\n",
       "      <th>0</th>\n",
       "      <td>0</td>\n",
       "      <td>2房</td>\n",
       "      <td>35 年</td>\n",
       "      <td>东南</td>\n",
       "      <td>618</td>\n",
       "      <td>万</td>\n",
       "      <td>沙田</td>\n",
       "      <td>伟华中心 4座 中层 E室</td>\n",
       "      <td>358</td>\n",
       "      <td>483</td>\n",
       "    </tr>\n",
       "    <tr>\n",
       "      <th>2</th>\n",
       "      <td>2</td>\n",
       "      <td>3房</td>\n",
       "      <td>28 年</td>\n",
       "      <td>东北</td>\n",
       "      <td>720</td>\n",
       "      <td>万</td>\n",
       "      <td>马鞍山</td>\n",
       "      <td>新港城 3期 R座 低层 4室</td>\n",
       "      <td>503</td>\n",
       "      <td>674</td>\n",
       "    </tr>\n",
       "    <tr>\n",
       "      <th>3</th>\n",
       "      <td>3</td>\n",
       "      <td>1房</td>\n",
       "      <td>39 年</td>\n",
       "      <td>东北</td>\n",
       "      <td>510</td>\n",
       "      <td>万</td>\n",
       "      <td>沙田</td>\n",
       "      <td>好运中心 枫林阁 (C1座) 低层 H室</td>\n",
       "      <td>326</td>\n",
       "      <td>426</td>\n",
       "    </tr>\n",
       "    <tr>\n",
       "      <th>5</th>\n",
       "      <td>5</td>\n",
       "      <td>2房</td>\n",
       "      <td>39 年</td>\n",
       "      <td>西北</td>\n",
       "      <td>613.8</td>\n",
       "      <td>万</td>\n",
       "      <td>沙田</td>\n",
       "      <td>好运中心 榆林阁 (A2座) 8楼 H室</td>\n",
       "      <td>427</td>\n",
       "      <td>555</td>\n",
       "    </tr>\n",
       "    <tr>\n",
       "      <th>6</th>\n",
       "      <td>6</td>\n",
       "      <td>2房</td>\n",
       "      <td>36 年</td>\n",
       "      <td>东北</td>\n",
       "      <td>565</td>\n",
       "      <td>万</td>\n",
       "      <td>荃湾市中心</td>\n",
       "      <td>荃锦中心 1座 12楼 A室</td>\n",
       "      <td>369</td>\n",
       "      <td>511</td>\n",
       "    </tr>\n",
       "    <tr>\n",
       "      <th>...</th>\n",
       "      <td>...</td>\n",
       "      <td>...</td>\n",
       "      <td>...</td>\n",
       "      <td>...</td>\n",
       "      <td>...</td>\n",
       "      <td>...</td>\n",
       "      <td>...</td>\n",
       "      <td>...</td>\n",
       "      <td>...</td>\n",
       "      <td>...</td>\n",
       "    </tr>\n",
       "    <tr>\n",
       "      <th>6220</th>\n",
       "      <td>6220</td>\n",
       "      <td>2房</td>\n",
       "      <td>24 年</td>\n",
       "      <td>西北</td>\n",
       "      <td>747.7</td>\n",
       "      <td>万</td>\n",
       "      <td>坑口</td>\n",
       "      <td>东港城 8座 31楼 C室</td>\n",
       "      <td>463</td>\n",
       "      <td>588</td>\n",
       "    </tr>\n",
       "    <tr>\n",
       "      <th>6226</th>\n",
       "      <td>6226</td>\n",
       "      <td>3房</td>\n",
       "      <td>11 年</td>\n",
       "      <td>东南</td>\n",
       "      <td>1,275</td>\n",
       "      <td>万</td>\n",
       "      <td>元朗站</td>\n",
       "      <td>YOHO TOWN 2期 YOHO MIDTOWN 8座 9楼 D室</td>\n",
       "      <td>893</td>\n",
       "      <td>1,148</td>\n",
       "    </tr>\n",
       "    <tr>\n",
       "      <th>6229</th>\n",
       "      <td>6229</td>\n",
       "      <td>2房</td>\n",
       "      <td>11 年</td>\n",
       "      <td>东北</td>\n",
       "      <td>818</td>\n",
       "      <td>万</td>\n",
       "      <td>元朗站</td>\n",
       "      <td>YOHO TOWN 2期 YOHO MIDTOWN 9座 27楼 A室</td>\n",
       "      <td>525</td>\n",
       "      <td>676</td>\n",
       "    </tr>\n",
       "    <tr>\n",
       "      <th>6233</th>\n",
       "      <td>6233</td>\n",
       "      <td>2房</td>\n",
       "      <td>18 年</td>\n",
       "      <td>东南</td>\n",
       "      <td>668</td>\n",
       "      <td>万</td>\n",
       "      <td>元朗站</td>\n",
       "      <td>YOHO TOWN 1期 9座 20楼 E室</td>\n",
       "      <td>422</td>\n",
       "      <td>544</td>\n",
       "    </tr>\n",
       "    <tr>\n",
       "      <th>6234</th>\n",
       "      <td>6234</td>\n",
       "      <td>2房</td>\n",
       "      <td>8 年</td>\n",
       "      <td>西</td>\n",
       "      <td>579</td>\n",
       "      <td>万</td>\n",
       "      <td>元朗东南</td>\n",
       "      <td>尚悦 3座 7楼 B室</td>\n",
       "      <td>440</td>\n",
       "      <td>598</td>\n",
       "    </tr>\n",
       "  </tbody>\n",
       "</table>\n",
       "<p>1474 rows × 10 columns</p>\n",
       "</div>"
      ],
      "text/plain": [
       "      Unnamed: 0 rooms   age direction priceNum priceLbl   area  \\\n",
       "0              0    2房  35 年        东南      618        万     沙田   \n",
       "2              2    3房  28 年        东北      720        万    马鞍山   \n",
       "3              3    1房  39 年        东北      510        万     沙田   \n",
       "5              5    2房  39 年        西北    613.8        万     沙田   \n",
       "6              6    2房  36 年        东北      565        万  荃湾市中心   \n",
       "...          ...   ...   ...       ...      ...      ...    ...   \n",
       "6220        6220    2房  24 年        西北    747.7        万     坑口   \n",
       "6226        6226    3房  11 年        东南    1,275        万    元朗站   \n",
       "6229        6229    2房  11 年        东北      818        万    元朗站   \n",
       "6233        6233    2房  18 年        东南      668        万    元朗站   \n",
       "6234        6234    2房   8 年         西      579        万   元朗东南   \n",
       "\n",
       "                                 location  gfa    cfa  \n",
       "0                           伟华中心 4座 中层 E室  358    483  \n",
       "2                         新港城 3期 R座 低层 4室  503    674  \n",
       "3                    好运中心 枫林阁 (C1座) 低层 H室  326    426  \n",
       "5                    好运中心 榆林阁 (A2座) 8楼 H室  427    555  \n",
       "6                          荃锦中心 1座 12楼 A室  369    511  \n",
       "...                                   ...  ...    ...  \n",
       "6220                        东港城 8座 31楼 C室  463    588  \n",
       "6226   YOHO TOWN 2期 YOHO MIDTOWN 8座 9楼 D室  893  1,148  \n",
       "6229  YOHO TOWN 2期 YOHO MIDTOWN 9座 27楼 A室  525    676  \n",
       "6233               YOHO TOWN 1期 9座 20楼 E室  422    544  \n",
       "6234                          尚悦 3座 7楼 B室  440    598  \n",
       "\n",
       "[1474 rows x 10 columns]"
      ]
     },
     "execution_count": 6,
     "metadata": {},
     "output_type": "execute_result"
    }
   ],
   "source": [
    "df.dropna()"
   ]
  },
  {
   "cell_type": "code",
   "execution_count": 7,
   "metadata": {},
   "outputs": [
    {
     "data": {
      "text/plain": [
       "'https://hk.centanet.com/findproperty/zh-cn/transaction-detail/-%E4%BC%9F%E5%8D%8E%E4%B8%AD%E5%BF%83_FTY202203S0762'"
      ]
     },
     "execution_count": 7,
     "metadata": {},
     "output_type": "execute_result"
    }
   ],
   "source": [
    "stringFnl[0]\n",
    "\n"
   ]
  },
  {
   "cell_type": "code",
   "execution_count": 8,
   "metadata": {},
   "outputs": [
    {
     "data": {
      "text/plain": [
       "'https://hk.centanet.com/findproperty/zh-cn/transaction-detail/-%E9%92%9C%E5%8F%91%E5%A4%A7%E5%8E%A6_YK1202204S0187'"
      ]
     },
     "execution_count": 8,
     "metadata": {},
     "output_type": "execute_result"
    }
   ],
   "source": [
    "stringFnl[1]"
   ]
  },
  {
   "cell_type": "code",
   "execution_count": 9,
   "metadata": {},
   "outputs": [],
   "source": [
    "idx = 6234"
   ]
  },
  {
   "cell_type": "code",
   "execution_count": 10,
   "metadata": {},
   "outputs": [],
   "source": [
    "def collect_info(url):\n",
    "    r = session.get(url, headers = header)\n",
    "    info = dict()\n",
    "    info[\"rooms\"] = None\n",
    "    info[\"age\"] = None\n",
    "    info[\"direction\"] = None\n",
    "    info[\"priceNum\"] = None\n",
    "    info[\"priceLbl\"] = None\n",
    "    info[\"area\"] = None\n",
    "    info[\"location\"] = None\n",
    "    info[\"gfa\"] = None\n",
    "    info[\"cfa\"] = None\n",
    "    \n",
    "    #price\n",
    "    try:\n",
    "        priceNum = r.html.xpath(\"//span[@class='price-lbl']/text()\")[0].strip()\n",
    "        priceLbl = r.html.xpath(\n",
    "            \"//span[@class='price-lbl']/label/text()\")[0].strip()\n",
    "        info[\"priceNum\"] = priceNum\n",
    "        info[\"priceLbl\"] = priceLbl\n",
    "    except IndexError:\n",
    "        pass\n",
    "\n",
    "    #location and area\n",
    "    try:\n",
    "        area = r.html.xpath(\n",
    "            \"//span[@class='el-breadcrumb__item'][5]/span/a/text()\")[0].strip()\n",
    "        info[\"area\"] = area\n",
    "    except IndexError:\n",
    "        pass\n",
    "    \n",
    "    try:\n",
    "        location = r.html.xpath(\n",
    "            \"//h1[@class='info-title f-middle']/p/text()\")[0].strip()\n",
    "        info[\"location\"] = location\n",
    "    except IndexError:\n",
    "        pass\n",
    "    \n",
    "    #gfa cfa\n",
    "    try:\n",
    "        gfa = r.html.xpath(\"//div[@class='fl']/p/span[2]/text()\")[0].strip()\n",
    "        info[\"gfa\"] = gfa\n",
    "    \n",
    "    except IndexError:\n",
    "        pass\n",
    "    try:\n",
    "        cfa = r.html.xpath(\"//div[@class='fr']/p/text()\")[0].strip()\n",
    "        info[\"cfa\"] = cfa\n",
    "    except IndexError:\n",
    "        pass\n",
    "    #rooms age direction\n",
    "    \n",
    "    for divID in range(len(r.html.xpath(\"// div[@class='info-num flex-between']/div\"))):\n",
    "        div = divID+1\n",
    "        cat = r.html.xpath(\n",
    "            \"// div[@class='info-num flex-between']/div[{}]/p[1]/text()\".format(div))[0].strip()\n",
    "        content = r.html.xpath(\n",
    "            \"// div[@class='info-num flex-between']/div[{}]/p[2]/text()\".format(div))[0].strip()\n",
    "        if cat == \"楼龄\":\n",
    "            info[\"age\"] = content\n",
    "        elif cat == \"座向\":\n",
    "            info[\"direction\"] = content\n",
    "        elif cat == \"间隔\":\n",
    "            info[\"rooms\"] = content\n",
    "\n",
    "    return info\n"
   ]
  },
  {
   "cell_type": "code",
   "execution_count": 11,
   "metadata": {},
   "outputs": [],
   "source": [
    "session = HTMLSession()\n",
    "\n",
    "header = {\n",
    "\n",
    "    'User-Agent': 'Mozilla/5.0 (Macintosh; Intel Mac OS X 10_15_0) AppleWebKit/537.36 (KHTML, like Gecko) Chrome/80.0.3987.132 Safari/537.36'\n",
    "}\n"
   ]
  },
  {
   "cell_type": "code",
   "execution_count": 12,
   "metadata": {},
   "outputs": [],
   "source": [
    "from tqdm import tqdm\n",
    "import pandas as pd"
   ]
  },
  {
   "cell_type": "code",
   "execution_count": 13,
   "metadata": {},
   "outputs": [
    {
     "name": "stderr",
     "output_type": "stream",
     "text": [
      " 15%|█▌        | 3080/20072 [4:40:30<25:23:51,  5.38s/it]"
     ]
    },
    {
     "name": "stdout",
     "output_type": "stream",
     "text": [
      "retrying:\n",
      "https://hk.centanet.com/findproperty/zh-cn/transaction-detail/-_22042900500088\n"
     ]
    },
    {
     "name": "stderr",
     "output_type": "stream",
     "text": [
      " 15%|█▌        | 3081/20072 [4:41:35<110:06:48, 23.33s/it]"
     ]
    },
    {
     "name": "stdout",
     "output_type": "stream",
     "text": [
      "fail\n"
     ]
    },
    {
     "name": "stderr",
     "output_type": "stream",
     "text": [
      " 16%|█▌        | 3168/20072 [4:51:26<24:46:23,  5.28s/it] "
     ]
    },
    {
     "name": "stdout",
     "output_type": "stream",
     "text": [
      "retrying:\n",
      "https://hk.centanet.com/findproperty/zh-cn/transaction-detail/-%E8%94%9A%E8%93%9D%E6%B9%BE%E7%95%94_KTL2202204S0146\n",
      "fail\n"
     ]
    },
    {
     "name": "stderr",
     "output_type": "stream",
     "text": [
      " 16%|█▌        | 3169/20072 [4:51:31<24:35:55,  5.24s/it]"
     ]
    },
    {
     "name": "stdout",
     "output_type": "stream",
     "text": [
      "retrying:\n",
      "https://hk.centanet.com/findproperty/zh-cn/transaction-detail/-%E8%BF%8E%E6%B6%9B%E6%B9%BE_M.V202204S0653\n",
      "fail\n"
     ]
    },
    {
     "name": "stderr",
     "output_type": "stream",
     "text": [
      " 16%|█▌        | 3235/20072 [4:57:24<24:44:58,  5.29s/it]"
     ]
    },
    {
     "name": "stdout",
     "output_type": "stream",
     "text": [
      "retrying:\n",
      "https://hk.centanet.com/findproperty/zh-cn/transaction-detail/-%E5%8D%97%E4%B8%B0%E5%B9%BF%E5%9C%BA_JKZ202204S0379\n",
      "fail\n"
     ]
    },
    {
     "name": "stderr",
     "output_type": "stream",
     "text": [
      " 16%|█▌        | 3237/20072 [4:57:34<24:41:55,  5.28s/it]"
     ]
    },
    {
     "name": "stdout",
     "output_type": "stream",
     "text": [
      "retrying:\n",
      "https://hk.centanet.com/findproperty/zh-cn/transaction-detail/-%E6%80%A1%E6%99%AF%E5%9B%AD_LYS202204S0419\n",
      "fail\n"
     ]
    },
    {
     "name": "stderr",
     "output_type": "stream",
     "text": [
      " 16%|█▌        | 3238/20072 [4:57:39<24:29:28,  5.24s/it]"
     ]
    },
    {
     "name": "stdout",
     "output_type": "stream",
     "text": [
      "retrying:\n",
      "https://hk.centanet.com/findproperty/zh-cn/transaction-detail/%E6%96%B0%E6%B8%AF%E5%9F%8E-5%E6%9C%9F-%E6%B5%B7%E6%B6%9B%E5%B1%85_MDH202204S0506\n",
      "fail\n"
     ]
    },
    {
     "name": "stderr",
     "output_type": "stream",
     "text": [
      " 16%|█▌        | 3240/20072 [4:57:50<24:24:02,  5.22s/it]"
     ]
    },
    {
     "name": "stdout",
     "output_type": "stream",
     "text": [
      "retrying:\n",
      "https://hk.centanet.com/findproperty/zh-cn/transaction-detail/-%E5%A5%BD%E8%BF%90%E4%B8%AD%E5%BF%83_MDH202204S0563\n",
      "fail\n"
     ]
    },
    {
     "name": "stderr",
     "output_type": "stream",
     "text": [
      " 16%|█▌        | 3243/20072 [4:58:06<24:30:20,  5.24s/it]"
     ]
    },
    {
     "name": "stdout",
     "output_type": "stream",
     "text": [
      "retrying:\n",
      "https://hk.centanet.com/findproperty/zh-cn/transaction-detail/-%E9%9B%85%E5%85%B8%E5%B1%85_NMC2202204S0085\n",
      "fail\n"
     ]
    },
    {
     "name": "stderr",
     "output_type": "stream",
     "text": [
      " 16%|█▌        | 3244/20072 [4:58:11<24:22:53,  5.22s/it]"
     ]
    },
    {
     "name": "stdout",
     "output_type": "stream",
     "text": [
      "retrying:\n",
      "https://hk.centanet.com/findproperty/zh-cn/transaction-detail/-%E8%8D%9F%E6%9C%97_UGX202204S0637\n",
      "fail\n"
     ]
    },
    {
     "name": "stderr",
     "output_type": "stream",
     "text": [
      " 16%|█▌        | 3248/20072 [4:58:32<24:40:10,  5.28s/it]"
     ]
    },
    {
     "name": "stdout",
     "output_type": "stream",
     "text": [
      "retrying:\n",
      "https://hk.centanet.com/findproperty/zh-cn/transaction-detail/-%E6%9C%97%E6%80%A1%E5%B1%85_YK2202204S0618\n",
      "fail\n"
     ]
    },
    {
     "name": "stderr",
     "output_type": "stream",
     "text": [
      " 16%|█▋        | 3272/20072 [5:00:40<24:37:55,  5.28s/it]"
     ]
    },
    {
     "name": "stdout",
     "output_type": "stream",
     "text": [
      "retrying:\n",
      "https://hk.centanet.com/findproperty/zh-cn/transaction-detail/-%E4%BC%9F%E5%8D%8E%E4%B8%AD%E5%BF%83_DNM202204S0019\n",
      "fail\n"
     ]
    },
    {
     "name": "stderr",
     "output_type": "stream",
     "text": [
      " 17%|█▋        | 3316/20072 [5:04:34<24:33:26,  5.28s/it]"
     ]
    },
    {
     "name": "stdout",
     "output_type": "stream",
     "text": [
      "retrying:\n",
      "https://hk.centanet.com/findproperty/zh-cn/transaction-detail/-%E6%B5%B7%E6%82%A6%E8%B1%AA%E5%9B%AD_GVN202204S0251\n",
      "fail\n"
     ]
    },
    {
     "name": "stderr",
     "output_type": "stream",
     "text": [
      " 17%|█▋        | 3318/20072 [5:04:45<24:26:56,  5.25s/it]"
     ]
    },
    {
     "name": "stdout",
     "output_type": "stream",
     "text": [
      "retrying:\n",
      "https://hk.centanet.com/findproperty/zh-cn/transaction-detail/-%E7%89%B5%E6%99%B4%E9%97%B4_NRT2202204S0246\n",
      "fail\n"
     ]
    },
    {
     "name": "stderr",
     "output_type": "stream",
     "text": [
      " 17%|█▋        | 3321/20072 [5:05:00<24:27:01,  5.25s/it]"
     ]
    },
    {
     "name": "stdout",
     "output_type": "stream",
     "text": [
      "retrying:\n",
      "https://hk.centanet.com/findproperty/zh-cn/transaction-detail/-%E5%B0%9A%E6%82%A6_WEF202204S0169\n",
      "fail\n"
     ]
    },
    {
     "name": "stderr",
     "output_type": "stream",
     "text": [
      " 17%|█▋        | 3344/20072 [5:07:03<24:34:39,  5.29s/it]"
     ]
    },
    {
     "name": "stdout",
     "output_type": "stream",
     "text": [
      "retrying:\n",
      "https://hk.centanet.com/findproperty/zh-cn/transaction-detail/GRAND-YOHO-1%E6%9C%9F_PRR202204S0218\n",
      "fail\n"
     ]
    },
    {
     "name": "stderr",
     "output_type": "stream",
     "text": [
      " 17%|█▋        | 3375/20072 [5:09:49<24:31:45,  5.29s/it]"
     ]
    },
    {
     "name": "stdout",
     "output_type": "stream",
     "text": [
      "retrying:\n",
      "https://hk.centanet.com/findproperty/zh-cn/transaction-detail/-%E8%94%9A%E7%BF%A0%E8%8A%B1%E5%9B%AD_NFO1202203S0321\n",
      "fail\n"
     ]
    },
    {
     "name": "stderr",
     "output_type": "stream",
     "text": [
      " 17%|█▋        | 3376/20072 [5:09:54<24:18:32,  5.24s/it]"
     ]
    },
    {
     "name": "stdout",
     "output_type": "stream",
     "text": [
      "retrying:\n",
      "https://hk.centanet.com/findproperty/zh-cn/transaction-detail/-%E9%87%87%E5%8F%B6%E5%BA%AD_YL5202203S0969\n",
      "fail\n"
     ]
    },
    {
     "name": "stderr",
     "output_type": "stream",
     "text": [
      " 17%|█▋        | 3388/20072 [5:10:58<24:23:51,  5.26s/it]"
     ]
    },
    {
     "name": "stdout",
     "output_type": "stream",
     "text": [
      "retrying:\n",
      "https://hk.centanet.com/findproperty/zh-cn/transaction-detail/-%E6%B2%99%E7%94%B0%E4%B8%AD%E5%BF%83_UCS202203S0972\n",
      "fail\n"
     ]
    },
    {
     "name": "stderr",
     "output_type": "stream",
     "text": [
      " 17%|█▋        | 3409/20072 [5:12:50<24:25:35,  5.28s/it]"
     ]
    },
    {
     "name": "stdout",
     "output_type": "stream",
     "text": [
      "retrying:\n",
      "https://hk.centanet.com/findproperty/zh-cn/transaction-detail/-%E5%A5%BD%E9%A1%BA%E6%84%8F%E5%A4%A7%E5%8E%A6_NYW1202203S0244\n",
      "fail\n"
     ]
    },
    {
     "name": "stderr",
     "output_type": "stream",
     "text": [
      " 17%|█▋        | 3458/20072 [5:17:12<24:24:55,  5.29s/it]"
     ]
    },
    {
     "name": "stdout",
     "output_type": "stream",
     "text": [
      "retrying:\n",
      "https://hk.centanet.com/findproperty/zh-cn/transaction-detail/-%E9%A9%AC%E9%9E%8D%E5%B1%B1%E4%B8%AD%E5%BF%83_MB5202203S0477\n",
      "fail\n"
     ]
    },
    {
     "name": "stderr",
     "output_type": "stream",
     "text": [
      " 17%|█▋        | 3474/20072 [5:18:38<24:56:51,  5.41s/it]"
     ]
    },
    {
     "name": "stdout",
     "output_type": "stream",
     "text": [
      "retrying:\n",
      "https://hk.centanet.com/findproperty/zh-cn/transaction-detail/GRAND-YOHO-1%E6%9C%9F_WEF202203S0440\n",
      "fail\n"
     ]
    },
    {
     "name": "stderr",
     "output_type": "stream",
     "text": [
      " 20%|█▉        | 3965/20072 [6:02:19<23:51:32,  5.33s/it]"
     ]
    },
    {
     "name": "stdout",
     "output_type": "stream",
     "text": [
      "retrying:\n",
      "https://hk.centanet.com/findproperty/zh-cn/transaction-detail/-%E6%96%B0%E7%BF%A0%E8%8A%B1%E5%9B%AD_22021600060300\n"
     ]
    },
    {
     "name": "stderr",
     "output_type": "stream",
     "text": [
      " 20%|█▉        | 3966/20072 [6:02:24<23:53:23,  5.34s/it]"
     ]
    },
    {
     "name": "stdout",
     "output_type": "stream",
     "text": [
      "success\n"
     ]
    },
    {
     "name": "stderr",
     "output_type": "stream",
     "text": [
      " 20%|██        | 4089/20072 [6:13:20<23:21:37,  5.26s/it]"
     ]
    },
    {
     "name": "stdout",
     "output_type": "stream",
     "text": [
      "retrying:\n",
      "https://hk.centanet.com/findproperty/zh-cn/transaction-detail/-%E6%96%B0%E5%AE%9D%E5%9F%8E_KUK3202201S0143\n",
      "fail\n"
     ]
    },
    {
     "name": "stderr",
     "output_type": "stream",
     "text": [
      " 38%|███▊      | 7554/20072 [11:44:13<18:45:20,  5.39s/it]  "
     ]
    }
   ],
   "source": [
    "import time\n",
    "data_lst = []\n",
    "fail_lst = []\n",
    "j = 7001\n",
    "pbar = tqdm(total = len(stringFnl))\n",
    "while j < len(stringFnl):\n",
    "    if (j%100==0):\n",
    "        df = pd.DataFrame(data_lst)\n",
    "        df.to_csv(\"data.csv\")\n",
    "    if (j%1000==0):\n",
    "        df = pd.DataFrame(data_lst)\n",
    "        df.to_csv(\"data_\"+str(j)+\".csv\")\n",
    "    try:\n",
    "        i = stringFnl[j]\n",
    "        d = collect_info(i)\n",
    "        time.sleep(5)\n",
    "        if d['location'] == None:\n",
    "            count = 0\n",
    "            print(\"retrying:\")\n",
    "            print(i)\n",
    "            # while count <= 5 and d['location'] == None:\n",
    "            #     count += 1\n",
    "            #     time.sleep(5+count)\n",
    "            d = collect_info(i)\n",
    "            if d['location'] == None:\n",
    "                print('fail')\n",
    "                fail_lst.append(i)\n",
    "                j+=1\n",
    "                pbar.update(1)\n",
    "                continue\n",
    "            else:\n",
    "                print('success')\n",
    "        data_lst.append(d)\n",
    "        count = 0\n",
    "        j+=1\n",
    "        pbar.update(1)\n",
    "    except:\n",
    "        time.sleep(30)\n",
    "pbar.close()\n"
   ]
  },
  {
   "cell_type": "code",
   "execution_count": null,
   "metadata": {},
   "outputs": [
    {
     "data": {
      "text/plain": [
       "234"
      ]
     },
     "execution_count": 43,
     "metadata": {},
     "output_type": "execute_result"
    }
   ],
   "source": [
    "len(data_lst)"
   ]
  },
  {
   "cell_type": "code",
   "execution_count": null,
   "metadata": {},
   "outputs": [],
   "source": []
  },
  {
   "cell_type": "code",
   "execution_count": 2,
   "metadata": {},
   "outputs": [],
   "source": [
    "import pandas as pd  \n",
    "df = pd.read_csv('data.csv')"
   ]
  },
  {
   "cell_type": "code",
   "execution_count": 3,
   "metadata": {},
   "outputs": [
    {
     "data": {
      "text/html": [
       "<div>\n",
       "<style scoped>\n",
       "    .dataframe tbody tr th:only-of-type {\n",
       "        vertical-align: middle;\n",
       "    }\n",
       "\n",
       "    .dataframe tbody tr th {\n",
       "        vertical-align: top;\n",
       "    }\n",
       "\n",
       "    .dataframe thead th {\n",
       "        text-align: right;\n",
       "    }\n",
       "</style>\n",
       "<table border=\"1\" class=\"dataframe\">\n",
       "  <thead>\n",
       "    <tr style=\"text-align: right;\">\n",
       "      <th></th>\n",
       "      <th>Unnamed: 0</th>\n",
       "      <th>rooms</th>\n",
       "      <th>age</th>\n",
       "      <th>direction</th>\n",
       "      <th>priceNum</th>\n",
       "      <th>priceLbl</th>\n",
       "      <th>area</th>\n",
       "      <th>location</th>\n",
       "      <th>gfa</th>\n",
       "      <th>cfa</th>\n",
       "    </tr>\n",
       "  </thead>\n",
       "  <tbody>\n",
       "    <tr>\n",
       "      <th>6</th>\n",
       "      <td>6</td>\n",
       "      <td>3房</td>\n",
       "      <td>38 年</td>\n",
       "      <td>西北</td>\n",
       "      <td>835</td>\n",
       "      <td>万</td>\n",
       "      <td>绿杨</td>\n",
       "      <td>绿杨新邨 C座 30楼 8室</td>\n",
       "      <td>582</td>\n",
       "      <td>671</td>\n",
       "    </tr>\n",
       "    <tr>\n",
       "      <th>12</th>\n",
       "      <td>12</td>\n",
       "      <td>2房</td>\n",
       "      <td>35 年</td>\n",
       "      <td>西北</td>\n",
       "      <td>558</td>\n",
       "      <td>万</td>\n",
       "      <td>荃湾市中心</td>\n",
       "      <td>荃丰中心 19楼 B室</td>\n",
       "      <td>336</td>\n",
       "      <td>447</td>\n",
       "    </tr>\n",
       "    <tr>\n",
       "      <th>15</th>\n",
       "      <td>15</td>\n",
       "      <td>2房</td>\n",
       "      <td>20 年</td>\n",
       "      <td>西北</td>\n",
       "      <td>623</td>\n",
       "      <td>万</td>\n",
       "      <td>元朗站</td>\n",
       "      <td>采叶庭 11座 2楼 F室</td>\n",
       "      <td>509</td>\n",
       "      <td>673</td>\n",
       "    </tr>\n",
       "    <tr>\n",
       "      <th>18</th>\n",
       "      <td>18</td>\n",
       "      <td>2房</td>\n",
       "      <td>8 年</td>\n",
       "      <td>西南</td>\n",
       "      <td>568</td>\n",
       "      <td>万</td>\n",
       "      <td>元朗东南</td>\n",
       "      <td>尚悦 5座 10楼 B室</td>\n",
       "      <td>403</td>\n",
       "      <td>547</td>\n",
       "    </tr>\n",
       "    <tr>\n",
       "      <th>20</th>\n",
       "      <td>20</td>\n",
       "      <td>2房</td>\n",
       "      <td>13 年</td>\n",
       "      <td>东</td>\n",
       "      <td>831.6</td>\n",
       "      <td>万</td>\n",
       "      <td>太子</td>\n",
       "      <td>百汇轩 9楼 B室</td>\n",
       "      <td>468</td>\n",
       "      <td>670</td>\n",
       "    </tr>\n",
       "    <tr>\n",
       "      <th>...</th>\n",
       "      <td>...</td>\n",
       "      <td>...</td>\n",
       "      <td>...</td>\n",
       "      <td>...</td>\n",
       "      <td>...</td>\n",
       "      <td>...</td>\n",
       "      <td>...</td>\n",
       "      <td>...</td>\n",
       "      <td>...</td>\n",
       "      <td>...</td>\n",
       "    </tr>\n",
       "    <tr>\n",
       "      <th>7450</th>\n",
       "      <td>7450</td>\n",
       "      <td>3房</td>\n",
       "      <td>21 年</td>\n",
       "      <td>西北</td>\n",
       "      <td>1,000</td>\n",
       "      <td>万</td>\n",
       "      <td>马鞍山</td>\n",
       "      <td>迎涛湾 1座 (A座) 25楼 B室</td>\n",
       "      <td>736</td>\n",
       "      <td>959</td>\n",
       "    </tr>\n",
       "    <tr>\n",
       "      <th>7452</th>\n",
       "      <td>7452</td>\n",
       "      <td>2房</td>\n",
       "      <td>16 年</td>\n",
       "      <td>北</td>\n",
       "      <td>1,000</td>\n",
       "      <td>万</td>\n",
       "      <td>坚尼地城</td>\n",
       "      <td>域多利道60号 27楼 B室</td>\n",
       "      <td>466</td>\n",
       "      <td>633</td>\n",
       "    </tr>\n",
       "    <tr>\n",
       "      <th>7459</th>\n",
       "      <td>7459</td>\n",
       "      <td>3房</td>\n",
       "      <td>32 年</td>\n",
       "      <td>东南</td>\n",
       "      <td>658</td>\n",
       "      <td>万</td>\n",
       "      <td>荃湾市中心</td>\n",
       "      <td>豪辉花园 2座 8楼 D室</td>\n",
       "      <td>437</td>\n",
       "      <td>699</td>\n",
       "    </tr>\n",
       "    <tr>\n",
       "      <th>7464</th>\n",
       "      <td>7464</td>\n",
       "      <td>3房</td>\n",
       "      <td>38 年</td>\n",
       "      <td>东南</td>\n",
       "      <td>850</td>\n",
       "      <td>万</td>\n",
       "      <td>绿杨</td>\n",
       "      <td>绿杨新邨 F座 10楼 4室</td>\n",
       "      <td>582</td>\n",
       "      <td>667</td>\n",
       "    </tr>\n",
       "    <tr>\n",
       "      <th>7468</th>\n",
       "      <td>7468</td>\n",
       "      <td>2房</td>\n",
       "      <td>21 年</td>\n",
       "      <td>东南</td>\n",
       "      <td>718</td>\n",
       "      <td>万</td>\n",
       "      <td>马鞍山</td>\n",
       "      <td>迎涛湾 2座 (B座) 3楼 G室</td>\n",
       "      <td>515</td>\n",
       "      <td>689</td>\n",
       "    </tr>\n",
       "  </tbody>\n",
       "</table>\n",
       "<p>1604 rows × 10 columns</p>\n",
       "</div>"
      ],
      "text/plain": [
       "      Unnamed: 0 rooms   age direction priceNum priceLbl   area  \\\n",
       "6              6    3房  38 年        西北      835        万     绿杨   \n",
       "12            12    2房  35 年        西北      558        万  荃湾市中心   \n",
       "15            15    2房  20 年        西北      623        万    元朗站   \n",
       "18            18    2房   8 年        西南      568        万   元朗东南   \n",
       "20            20    2房  13 年         东    831.6        万     太子   \n",
       "...          ...   ...   ...       ...      ...      ...    ...   \n",
       "7450        7450    3房  21 年        西北    1,000        万    马鞍山   \n",
       "7452        7452    2房  16 年         北    1,000        万   坚尼地城   \n",
       "7459        7459    3房  32 年        东南      658        万  荃湾市中心   \n",
       "7464        7464    3房  38 年        东南      850        万     绿杨   \n",
       "7468        7468    2房  21 年        东南      718        万    马鞍山   \n",
       "\n",
       "                location  gfa  cfa  \n",
       "6         绿杨新邨 C座 30楼 8室  582  671  \n",
       "12           荃丰中心 19楼 B室  336  447  \n",
       "15         采叶庭 11座 2楼 F室  509  673  \n",
       "18          尚悦 5座 10楼 B室  403  547  \n",
       "20             百汇轩 9楼 B室  468  670  \n",
       "...                  ...  ...  ...  \n",
       "7450  迎涛湾 1座 (A座) 25楼 B室  736  959  \n",
       "7452      域多利道60号 27楼 B室  466  633  \n",
       "7459       豪辉花园 2座 8楼 D室  437  699  \n",
       "7464      绿杨新邨 F座 10楼 4室  582  667  \n",
       "7468   迎涛湾 2座 (B座) 3楼 G室  515  689  \n",
       "\n",
       "[1604 rows x 10 columns]"
      ]
     },
     "execution_count": 3,
     "metadata": {},
     "output_type": "execute_result"
    }
   ],
   "source": [
    "df.dropna()"
   ]
  },
  {
   "cell_type": "code",
   "execution_count": null,
   "metadata": {},
   "outputs": [
    {
     "name": "stdout",
     "output_type": "stream",
     "text": [
      "****************************************************************************************************************************************************************************************************************************************************************************************************************************************************************************************************************************************************************************************************************************************************************************************************************************************************************************************************************************************************************************************************************************************************************************************************************************************************************************************************************************************************************************************************************************************************************************************************************************************************************************************************************************************************************************************************************************************************************************************************************************************************************************************************************************************************************************************************************************************************************************************************************************************************************************************************************************************************************************************************************************************************************************************************************************************************************************************************************************************************************************************************************************************************************************************************************************************************************************************************************************************************************************************************************************************************************************************************************************************************************************************************************************************************************************************************************************************************************************************************************************************************************************************************************************************************************************************************************************************************************************************************************************************************************************************************************************************************************************************************************************************************************************************************************************************************************************************************************************************************************************************************************************************************************************************************************************************************************************************************************************************************************************************************************************************************************************************************************************************************************************************************************************************************************************************************************************************************************************************************************************************************************************************************************************************************************************************************************************************************************************************************************************************************************************************************************************************************************************************************************************************************************************************************************************************************************************************************************************************************************************************************************************************************************************************************************************************************************************************************************************************************************************************************************************************************************************************************************************************************************************************************************************************************************************************************************************************************************************************************************************************************************************************************************************************************************************************************************************************************************************************************************************************************************************************************************************************************************************************************************************************************************************************************************************************************************************************************************************************************************************************************************************************************************************************************************************************************************************************************************************************************************************************************************************************************************************************************************************************************************************************************************************************************************************************************************************************************************************************************************************************************************************************************************************************************************************************************************************************************************************************************************************************************************************************************************************************************************************************************************************************************************************************************************************************************************************************************************************************************************************************************************************************************************************************************************************************************************************************************************************************************************************************************************************************************************************************************************************************************************************************************************************************************************************************************************************************************************************************************************************************************************************************************************************************************************************************************************************************************************************************************************************************************************************************************************************************************************************************************************************************************************************************************************************************************************************************************************************************************************************************************************************************************************************************************************************************************************************************************************************************************************************************************************************************************************************************************************************************************************************************************************************************************************************************************************"
     ]
    }
   ],
   "source": [
    "cnt = 0\n",
    "with open('data.json',mode='w', encoding='utf-8') as f:\n",
    "    for i in stringFnl:\n",
    "        cnt+=1\n",
    "        #print(cnt,\"working with:\",i)\n",
    "        print(\"*\",end=\"\")\n",
    "        info = collect_info(i)\n",
    "        json.dump(info,f)\n",
    "        #print(\"done\")"
   ]
  },
  {
   "cell_type": "code",
   "execution_count": null,
   "metadata": {},
   "outputs": [
    {
     "data": {
      "text/plain": [
       "{'rooms': None,\n",
       " 'age': '27 年',\n",
       " 'direction': None,\n",
       " 'priceNum': '495',\n",
       " 'priceLbl': '万',\n",
       " 'area': '粉岭',\n",
       " 'location': '海联广场 2座 5楼 G室',\n",
       " 'gfa': '442',\n",
       " 'cfa': '584'}"
      ]
     },
     "execution_count": 41,
     "metadata": {},
     "output_type": "execute_result"
    }
   ],
   "source": [
    "collect_info(\"https://hk.centanet.com/findproperty/zh-cn/transaction-detail/-%E6%B5%B7%E8%81%94%E5%B9%BF%E5%9C%BA_22030401730038\")\n"
   ]
  },
  {
   "cell_type": "code",
   "execution_count": null,
   "metadata": {},
   "outputs": [
    {
     "data": {
      "text/plain": [
       "15"
      ]
     },
     "execution_count": 30,
     "metadata": {},
     "output_type": "execute_result"
    }
   ],
   "source": [
    "len(\"***************\")\n"
   ]
  },
  {
   "cell_type": "code",
   "execution_count": null,
   "metadata": {},
   "outputs": [],
   "source": [
    "with open(\"data.json\",\"r\") as f:\n",
    "    s = f.readlines()[0]"
   ]
  },
  {
   "cell_type": "code",
   "execution_count": null,
   "metadata": {},
   "outputs": [
    {
     "data": {
      "text/plain": [
       "1433015"
      ]
     },
     "execution_count": 63,
     "metadata": {},
     "output_type": "execute_result"
    }
   ],
   "source": [
    "len(s)"
   ]
  },
  {
   "cell_type": "code",
   "execution_count": null,
   "metadata": {},
   "outputs": [],
   "source": [
    "lst = s.split(\"{\")"
   ]
  },
  {
   "cell_type": "code",
   "execution_count": null,
   "metadata": {},
   "outputs": [
    {
     "data": {
      "text/plain": [
       "'\"rooms\": \"2\\\\u623f\", \"age\": \"17 \\\\u5e74\", \"direction\": \"\\\\u4e1c\\\\u5317\", \"priceNum\": \"898\", \"priceLbl\": \"\\\\u4e07\", \"area\": \"\\\\u5751\\\\u53e3\", \"location\": \"\\\\u851a\\\\u84dd\\\\u6e7e\\\\u7554 5\\\\u5ea7 \\\\u4e2d\\\\u5c42 G\\\\u5ba4\", \"gfa\": \"490\", \"cfa\": \"657\"}'"
      ]
     },
     "execution_count": 71,
     "metadata": {},
     "output_type": "execute_result"
    }
   ],
   "source": [
    "lst[1]"
   ]
  },
  {
   "cell_type": "code",
   "execution_count": null,
   "metadata": {},
   "outputs": [],
   "source": [
    "lst = list(map(lambda x:\"{\"+x, lst))"
   ]
  },
  {
   "cell_type": "code",
   "execution_count": null,
   "metadata": {},
   "outputs": [],
   "source": [
    "lst1 = list(map(lambda x :json.loads(x), lst))"
   ]
  },
  {
   "cell_type": "code",
   "execution_count": null,
   "metadata": {},
   "outputs": [],
   "source": [
    "with open(\"data1.json\",\"w\") as f:\n",
    "    json.dump(lst1,f)\n"
   ]
  },
  {
   "cell_type": "code",
   "execution_count": null,
   "metadata": {},
   "outputs": [],
   "source": [
    "f.close()"
   ]
  },
  {
   "cell_type": "code",
   "execution_count": null,
   "metadata": {},
   "outputs": [],
   "source": [
    "import pandas as pd"
   ]
  },
  {
   "cell_type": "code",
   "execution_count": null,
   "metadata": {},
   "outputs": [],
   "source": [
    "df = pd.DataFrame(lst1)"
   ]
  },
  {
   "cell_type": "code",
   "execution_count": null,
   "metadata": {},
   "outputs": [
    {
     "data": {
      "text/html": [
       "<div>\n",
       "<style scoped>\n",
       "    .dataframe tbody tr th:only-of-type {\n",
       "        vertical-align: middle;\n",
       "    }\n",
       "\n",
       "    .dataframe tbody tr th {\n",
       "        vertical-align: top;\n",
       "    }\n",
       "\n",
       "    .dataframe thead th {\n",
       "        text-align: right;\n",
       "    }\n",
       "</style>\n",
       "<table border=\"1\" class=\"dataframe\">\n",
       "  <thead>\n",
       "    <tr style=\"text-align: right;\">\n",
       "      <th></th>\n",
       "      <th>rooms</th>\n",
       "      <th>age</th>\n",
       "      <th>direction</th>\n",
       "      <th>priceNum</th>\n",
       "      <th>priceLbl</th>\n",
       "      <th>area</th>\n",
       "      <th>location</th>\n",
       "      <th>gfa</th>\n",
       "      <th>cfa</th>\n",
       "    </tr>\n",
       "  </thead>\n",
       "  <tbody>\n",
       "    <tr>\n",
       "      <th>0</th>\n",
       "      <td>2房</td>\n",
       "      <td>21 年</td>\n",
       "      <td>北</td>\n",
       "      <td>978.8</td>\n",
       "      <td>万</td>\n",
       "      <td>坚尼地城</td>\n",
       "      <td>加惠台 1座 低层 C室</td>\n",
       "      <td>464</td>\n",
       "      <td>589</td>\n",
       "    </tr>\n",
       "    <tr>\n",
       "      <th>1</th>\n",
       "      <td>2房</td>\n",
       "      <td>17 年</td>\n",
       "      <td>东北</td>\n",
       "      <td>898</td>\n",
       "      <td>万</td>\n",
       "      <td>坑口</td>\n",
       "      <td>蔚蓝湾畔 5座 中层 G室</td>\n",
       "      <td>490</td>\n",
       "      <td>657</td>\n",
       "    </tr>\n",
       "    <tr>\n",
       "      <th>2</th>\n",
       "      <td>None</td>\n",
       "      <td>49 年</td>\n",
       "      <td>None</td>\n",
       "      <td>494</td>\n",
       "      <td>万</td>\n",
       "      <td>湾仔</td>\n",
       "      <td>永德大厦 B座 4楼 B8室</td>\n",
       "      <td>373</td>\n",
       "      <td>500</td>\n",
       "    </tr>\n",
       "    <tr>\n",
       "      <th>3</th>\n",
       "      <td>None</td>\n",
       "      <td>33 年</td>\n",
       "      <td>东</td>\n",
       "      <td>455</td>\n",
       "      <td>万</td>\n",
       "      <td>元朗市中心</td>\n",
       "      <td>荣丰大厦 6楼 B室</td>\n",
       "      <td>423</td>\n",
       "      <td>616</td>\n",
       "    </tr>\n",
       "    <tr>\n",
       "      <th>4</th>\n",
       "      <td>None</td>\n",
       "      <td>27 年</td>\n",
       "      <td>西</td>\n",
       "      <td>1,000</td>\n",
       "      <td>万</td>\n",
       "      <td>马鞍山</td>\n",
       "      <td>雅典居 7座 17楼 D室</td>\n",
       "      <td>727</td>\n",
       "      <td>901</td>\n",
       "    </tr>\n",
       "    <tr>\n",
       "      <th>5</th>\n",
       "      <td>2房</td>\n",
       "      <td>8 年</td>\n",
       "      <td>西北</td>\n",
       "      <td>618</td>\n",
       "      <td>万</td>\n",
       "      <td>元朗东南</td>\n",
       "      <td>尚悦 1座 19楼 D室</td>\n",
       "      <td>425</td>\n",
       "      <td>576</td>\n",
       "    </tr>\n",
       "    <tr>\n",
       "      <th>6</th>\n",
       "      <td>None</td>\n",
       "      <td>27 年</td>\n",
       "      <td>西</td>\n",
       "      <td>1,038</td>\n",
       "      <td>万</td>\n",
       "      <td>马鞍山</td>\n",
       "      <td>雅典居 9座 22楼 D室</td>\n",
       "      <td>727</td>\n",
       "      <td>901</td>\n",
       "    </tr>\n",
       "    <tr>\n",
       "      <th>7</th>\n",
       "      <td>None</td>\n",
       "      <td>31 年</td>\n",
       "      <td>None</td>\n",
       "      <td>662</td>\n",
       "      <td>万</td>\n",
       "      <td>粉岭</td>\n",
       "      <td>粉岭中心 1期 G座 中层 3室</td>\n",
       "      <td>535</td>\n",
       "      <td>694</td>\n",
       "    </tr>\n",
       "    <tr>\n",
       "      <th>8</th>\n",
       "      <td>None</td>\n",
       "      <td>57 年</td>\n",
       "      <td>南</td>\n",
       "      <td>1,360</td>\n",
       "      <td>万</td>\n",
       "      <td>何文田</td>\n",
       "      <td>麒麟阁 低层 E室(244号)</td>\n",
       "      <td>1,075</td>\n",
       "      <td>1,293</td>\n",
       "    </tr>\n",
       "    <tr>\n",
       "      <th>9</th>\n",
       "      <td>2房</td>\n",
       "      <td>22 年</td>\n",
       "      <td>东北</td>\n",
       "      <td>718</td>\n",
       "      <td>万</td>\n",
       "      <td>坑口</td>\n",
       "      <td>新宝城 1座 中层 G室</td>\n",
       "      <td>377</td>\n",
       "      <td>527</td>\n",
       "    </tr>\n",
       "  </tbody>\n",
       "</table>\n",
       "</div>"
      ],
      "text/plain": [
       "  rooms   age direction priceNum priceLbl   area          location    gfa  \\\n",
       "0    2房  21 年         北    978.8        万   坚尼地城      加惠台 1座 低层 C室    464   \n",
       "1    2房  17 年        东北      898        万     坑口     蔚蓝湾畔 5座 中层 G室    490   \n",
       "2  None  49 年      None      494        万     湾仔    永德大厦 B座 4楼 B8室    373   \n",
       "3  None  33 年         东      455        万  元朗市中心        荣丰大厦 6楼 B室    423   \n",
       "4  None  27 年         西    1,000        万    马鞍山     雅典居 7座 17楼 D室    727   \n",
       "5    2房   8 年        西北      618        万   元朗东南      尚悦 1座 19楼 D室    425   \n",
       "6  None  27 年         西    1,038        万    马鞍山     雅典居 9座 22楼 D室    727   \n",
       "7  None  31 年      None      662        万     粉岭  粉岭中心 1期 G座 中层 3室    535   \n",
       "8  None  57 年         南    1,360        万    何文田   麒麟阁 低层 E室(244号)  1,075   \n",
       "9    2房  22 年        东北      718        万     坑口      新宝城 1座 中层 G室    377   \n",
       "\n",
       "     cfa  \n",
       "0    589  \n",
       "1    657  \n",
       "2    500  \n",
       "3    616  \n",
       "4    901  \n",
       "5    576  \n",
       "6    901  \n",
       "7    694  \n",
       "8  1,293  \n",
       "9    527  "
      ]
     },
     "execution_count": 84,
     "metadata": {},
     "output_type": "execute_result"
    }
   ],
   "source": [
    "df.iloc[:10]"
   ]
  },
  {
   "cell_type": "code",
   "execution_count": null,
   "metadata": {},
   "outputs": [],
   "source": []
  }
 ],
 "metadata": {
  "interpreter": {
   "hash": "b3ba2566441a7c06988d0923437866b63cedc61552a5af99d1f4fb67d367b25f"
  },
  "kernelspec": {
   "display_name": "Python 3.8.8 64-bit ('base': conda)",
   "language": "python",
   "name": "python3"
  },
  "language_info": {
   "codemirror_mode": {
    "name": "ipython",
    "version": 3
   },
   "file_extension": ".py",
   "mimetype": "text/x-python",
   "name": "python",
   "nbconvert_exporter": "python",
   "pygments_lexer": "ipython3",
   "version": "3.9.7"
  },
  "orig_nbformat": 4
 },
 "nbformat": 4,
 "nbformat_minor": 2
}
